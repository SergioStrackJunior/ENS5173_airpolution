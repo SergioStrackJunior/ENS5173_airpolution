{
 "cells": [
  {
   "cell_type": "markdown",
   "id": "83f96370-4a12-4b96-b509-7b9a38d6d72a",
   "metadata": {},
   "source": [
    "# Atividade 01 - Etapa 01 \n",
    "Desenvolvedor: Sérgio Strack Junior\n",
    "\n",
    "Dados Numéricos \n",
    " \n",
    "Operações básicas para entendimento do python\n"
   ]
  },
  {
   "cell_type": "code",
   "execution_count": 52,
   "id": "9adfea02-55ce-4355-8da8-3c85dbd8c2a0",
   "metadata": {},
   "outputs": [
    {
     "name": "stdout",
     "output_type": "stream",
     "text": [
      "Valor de a = 5\n"
     ]
    },
    {
     "data": {
      "text/plain": [
       "int"
      ]
     },
     "execution_count": 52,
     "metadata": {},
     "output_type": "execute_result"
    }
   ],
   "source": [
    "# Variável inteira\n",
    "#print é utilizado para mostrar algo\n",
    "a = 5\n",
    "print('Valor de a = '+str(a))\n",
    "type(a)"
   ]
  },
  {
   "cell_type": "code",
   "execution_count": 53,
   "id": "8416130b-ea70-41d5-8e1a-baf31b44e05b",
   "metadata": {},
   "outputs": [
    {
     "name": "stdout",
     "output_type": "stream",
     "text": [
      "5.0\n"
     ]
    },
    {
     "data": {
      "text/plain": [
       "float"
      ]
     },
     "execution_count": 53,
     "metadata": {},
     "output_type": "execute_result"
    }
   ],
   "source": [
    "# Variável dupla precisão\n",
    "b = 5.0\n",
    "print(b)\n",
    "type(b)"
   ]
  },
  {
   "cell_type": "code",
   "execution_count": 54,
   "id": "c85afe54-bb3f-4347-89ac-50e5e56cb556",
   "metadata": {},
   "outputs": [
    {
     "name": "stdout",
     "output_type": "stream",
     "text": [
      "5\n"
     ]
    },
    {
     "data": {
      "text/plain": [
       "int"
      ]
     },
     "execution_count": 54,
     "metadata": {},
     "output_type": "execute_result"
    }
   ],
   "source": [
    "# Converter float para int\n",
    "# mudando as váriaveis \n",
    "c = int(b)\n",
    "print(c)\n",
    "type(c)"
   ]
  },
  {
   "cell_type": "code",
   "execution_count": 55,
   "id": "389ee58c-e212-481e-bec0-10cbabb0b5a4",
   "metadata": {},
   "outputs": [
    {
     "name": "stdout",
     "output_type": "stream",
     "text": [
      "nan\n"
     ]
    },
    {
     "data": {
      "text/plain": [
       "float"
      ]
     },
     "execution_count": 55,
     "metadata": {},
     "output_type": "execute_result"
    }
   ],
   "source": [
    "# Delacrando nan (operações matemáticas)\n",
    "import numpy as np\n",
    "d = np.nan\n",
    "print(d)\n",
    "type(d)"
   ]
  },
  {
   "cell_type": "code",
   "execution_count": 56,
   "id": "69be2595-27f7-4644-b39a-792a681fddb3",
   "metadata": {},
   "outputs": [
    {
     "name": "stdout",
     "output_type": "stream",
     "text": [
      "nan\n",
      "nan\n",
      "5.0\n"
     ]
    }
   ],
   "source": [
    "# Operação com NaN\n",
    "e = d*5\n",
    "print(e)\n",
    "e = d+5\n",
    "print(e)\n",
    "e = np.nansum([d,5])\n",
    "print(e)"
   ]
  },
  {
   "cell_type": "markdown",
   "id": "618edc6a-b1f8-4c74-85ba-a90009bf6bea",
   "metadata": {},
   "source": [
    "## Dados de texto"
   ]
  },
  {
   "cell_type": "code",
   "execution_count": 57,
   "id": "aed5bb0f-c051-4d32-8f23-a3ec83293d76",
   "metadata": {},
   "outputs": [
    {
     "name": "stdout",
     "output_type": "stream",
     "text": [
      "Sérgio\n",
      "Strack\n",
      "SérgioStrack\n",
      "Sérgio Strack\n"
     ]
    }
   ],
   "source": [
    "# Declaração de variável texto\n",
    "f = 'Sérgio'\n",
    "g = \"Strack\"\n",
    "print(f)\n",
    "print(g)\n",
    "print(f+g)\n",
    "print(f+' '+g)"
   ]
  },
  {
   "cell_type": "markdown",
   "id": "92cb200a-413f-4763-a8df-a2e3eaf57b7d",
   "metadata": {},
   "source": [
    "## Dados tipo bool - lógica"
   ]
  },
  {
   "cell_type": "code",
   "execution_count": 58,
   "id": "1c0007bd-269f-4644-8e18-c61b71b19ec9",
   "metadata": {},
   "outputs": [
    {
     "data": {
      "text/plain": [
       "True"
      ]
     },
     "execution_count": 58,
     "metadata": {},
     "output_type": "execute_result"
    }
   ],
   "source": [
    "# == é pra verificar a = b \n",
    "a == 5"
   ]
  },
  {
   "cell_type": "code",
   "execution_count": 59,
   "id": "7eed83e5-f3ff-4f5a-91fd-002693b91a75",
   "metadata": {},
   "outputs": [
    {
     "name": "stdout",
     "output_type": "stream",
     "text": [
      "True\n"
     ]
    },
    {
     "data": {
      "text/plain": [
       "bool"
      ]
     },
     "execution_count": 59,
     "metadata": {},
     "output_type": "execute_result"
    }
   ],
   "source": [
    "h = (a==5)\n",
    "print(h)\n",
    "type(h)"
   ]
  },
  {
   "cell_type": "code",
   "execution_count": 60,
   "id": "ad4a1538-9395-4f65-8698-2479d8bc73df",
   "metadata": {},
   "outputs": [
    {
     "name": "stdout",
     "output_type": "stream",
     "text": [
      "True\n"
     ]
    },
    {
     "data": {
      "text/plain": [
       "bool"
      ]
     },
     "execution_count": 60,
     "metadata": {},
     "output_type": "execute_result"
    }
   ],
   "source": [
    "h = (a==5)\n",
    "print(h)\n",
    "type(h)"
   ]
  },
  {
   "cell_type": "code",
   "execution_count": 61,
   "id": "e61a6bb6-4f22-40e3-a739-ddd2a91706ef",
   "metadata": {},
   "outputs": [
    {
     "data": {
      "text/plain": [
       "bool"
      ]
     },
     "execution_count": 61,
     "metadata": {},
     "output_type": "execute_result"
    }
   ],
   "source": [
    "i = True\n",
    "type(i)"
   ]
  },
  {
   "cell_type": "code",
   "execution_count": 62,
   "id": "7ed062cc-90b0-4364-9408-7be4bb46bb2c",
   "metadata": {},
   "outputs": [
    {
     "data": {
      "text/plain": [
       "str"
      ]
     },
     "execution_count": 62,
     "metadata": {},
     "output_type": "execute_result"
    }
   ],
   "source": [
    "# Retorna o tipo de dados da variáve\n",
    "ii = 'True'\n",
    "type(ii)"
   ]
  },
  {
   "cell_type": "markdown",
   "id": "a583786e-7cea-422b-8601-b33bb05e949f",
   "metadata": {},
   "source": [
    "## Operação de Coparação"
   ]
  },
  {
   "cell_type": "code",
   "execution_count": 63,
   "id": "77c52849-9e1c-4bae-b294-3b65185f8cc8",
   "metadata": {},
   "outputs": [
    {
     "data": {
      "text/plain": [
       "5"
      ]
     },
     "execution_count": 63,
     "metadata": {},
     "output_type": "execute_result"
    }
   ],
   "source": [
    "# Soma \n",
    "2+3"
   ]
  },
  {
   "cell_type": "code",
   "execution_count": 64,
   "id": "51c85396-2bd2-4a9c-b45e-960ab98da8e9",
   "metadata": {},
   "outputs": [
    {
     "name": "stdout",
     "output_type": "stream",
     "text": [
      "16\n"
     ]
    }
   ],
   "source": [
    "# Soma e atribui valor\n",
    "ab = 7+9\n",
    "print(ab)"
   ]
  },
  {
   "cell_type": "code",
   "execution_count": 65,
   "id": "4b35e650-7a14-4b42-ba52-e92b1c27269b",
   "metadata": {},
   "outputs": [
    {
     "name": "stdout",
     "output_type": "stream",
     "text": [
      "Não use l como nome de variável\n",
      "15\n"
     ]
    }
   ],
   "source": [
    "# Multiplicação\n",
    "l = a*b # Não use l como variável\n",
    "print(\"Não use l como nome de variável\")\n",
    "j = 3*5\n",
    "print(j)"
   ]
  },
  {
   "cell_type": "code",
   "execution_count": 66,
   "id": "924ee1d7-1e20-4ff7-aec5-0deb3fe66ad0",
   "metadata": {},
   "outputs": [
    {
     "data": {
      "text/plain": [
       "3.0"
      ]
     },
     "execution_count": 66,
     "metadata": {},
     "output_type": "execute_result"
    }
   ],
   "source": [
    "# Divisão\n",
    "6/2"
   ]
  },
  {
   "cell_type": "code",
   "execution_count": 67,
   "id": "e0cfb28b-5efd-4581-a7de-a3c19d072228",
   "metadata": {},
   "outputs": [
    {
     "data": {
      "text/plain": [
       "25"
      ]
     },
     "execution_count": 67,
     "metadata": {},
     "output_type": "execute_result"
    }
   ],
   "source": [
    "# Potencia\n",
    "5**2"
   ]
  },
  {
   "cell_type": "code",
   "execution_count": 68,
   "id": "ac2a389d-173e-4d8b-93d9-d3659a5746d0",
   "metadata": {},
   "outputs": [
    {
     "data": {
      "text/plain": [
       "2.6881171418161356e+43"
      ]
     },
     "execution_count": 68,
     "metadata": {},
     "output_type": "execute_result"
    }
   ],
   "source": [
    "# Operações matemáticas com a bibliotéca math \n",
    "import math\n",
    "\n",
    "math.exp(100)"
   ]
  },
  {
   "cell_type": "code",
   "execution_count": 69,
   "id": "1a0490d5-ddbe-4998-950d-40bc3f1a724d",
   "metadata": {},
   "outputs": [
    {
     "data": {
      "text/plain": [
       "8103.083927575384"
      ]
     },
     "execution_count": 69,
     "metadata": {},
     "output_type": "execute_result"
    }
   ],
   "source": [
    "math.exp(9)"
   ]
  },
  {
   "cell_type": "code",
   "execution_count": 70,
   "id": "0fd3f34d-e9c9-4707-9f85-3ca60e5b3df8",
   "metadata": {},
   "outputs": [
    {
     "data": {
      "text/plain": [
       "2980.9579870417283"
      ]
     },
     "execution_count": 70,
     "metadata": {},
     "output_type": "execute_result"
    }
   ],
   "source": [
    "math.exp(8)"
   ]
  },
  {
   "cell_type": "code",
   "execution_count": 71,
   "id": "3f9ebbdd-c20f-41f2-a909-06975fbc4fb2",
   "metadata": {},
   "outputs": [
    {
     "data": {
      "text/plain": [
       "0.36787944117144233"
      ]
     },
     "execution_count": 71,
     "metadata": {},
     "output_type": "execute_result"
    }
   ],
   "source": [
    "math.exp(-1)"
   ]
  },
  {
   "cell_type": "code",
   "execution_count": 72,
   "id": "4724dd2b-15c7-400a-ad7f-a7892f174c96",
   "metadata": {},
   "outputs": [
    {
     "data": {
      "text/plain": [
       "4.290459441148391"
      ]
     },
     "execution_count": 72,
     "metadata": {},
     "output_type": "execute_result"
    }
   ],
   "source": [
    "#puxando a biblioteca (mt - usado para chamar a função math reduzido para mt)\n",
    "import math as mt\n",
    "mt.log(73)"
   ]
  },
  {
   "cell_type": "code",
   "execution_count": 73,
   "id": "aa8ceec5-6356-4a84-96f5-6244a05b622a",
   "metadata": {},
   "outputs": [
    {
     "data": {
      "text/plain": [
       "0.6989700043360189"
      ]
     },
     "execution_count": 73,
     "metadata": {},
     "output_type": "execute_result"
    }
   ],
   "source": [
    "mt.log10(5)"
   ]
  },
  {
   "cell_type": "markdown",
   "id": "214ddd69-91f6-49be-b977-ebef16a6c5bd",
   "metadata": {},
   "source": [
    "## Listas"
   ]
  },
  {
   "cell_type": "code",
   "execution_count": 74,
   "id": "4f7cd29e-d473-4ae7-9bf1-32d875351dfd",
   "metadata": {},
   "outputs": [
    {
     "name": "stdout",
     "output_type": "stream",
     "text": [
      "[5, 10, 15]\n"
     ]
    }
   ],
   "source": [
    "#manipulação de lista\n",
    "myFirstList = [5,10,15]\n",
    "print(myFirstList)"
   ]
  },
  {
   "cell_type": "code",
   "execution_count": 75,
   "id": "74ebe38b-3e5d-458a-abdf-7cab0e4d76fc",
   "metadata": {},
   "outputs": [
    {
     "data": {
      "text/plain": [
       "False"
      ]
     },
     "execution_count": 75,
     "metadata": {},
     "output_type": "execute_result"
    }
   ],
   "source": [
    "myFirstList==5"
   ]
  },
  {
   "cell_type": "code",
   "execution_count": 76,
   "id": "246d4a88-eaf8-4380-a1ca-d943ccc2fa98",
   "metadata": {},
   "outputs": [
    {
     "data": {
      "text/plain": [
       "False"
      ]
     },
     "execution_count": 76,
     "metadata": {},
     "output_type": "execute_result"
    }
   ],
   "source": [
    "myFirstList[1]==a"
   ]
  },
  {
   "cell_type": "code",
   "execution_count": 77,
   "id": "8dc6bd6b-6ec7-4d4c-bb97-389e5bbc8915",
   "metadata": {},
   "outputs": [
    {
     "name": "stdout",
     "output_type": "stream",
     "text": [
      "[5, 5, 'c']\n"
     ]
    }
   ],
   "source": [
    "mySecList = [5,a,'c']\n",
    "print(mySecList)"
   ]
  },
  {
   "cell_type": "code",
   "execution_count": 78,
   "id": "4b66eeb3-2036-4221-871a-60cbacf1baee",
   "metadata": {},
   "outputs": [
    {
     "data": {
      "text/plain": [
       "list"
      ]
     },
     "execution_count": 78,
     "metadata": {},
     "output_type": "execute_result"
    }
   ],
   "source": [
    "type(mySecList)"
   ]
  },
  {
   "cell_type": "code",
   "execution_count": 79,
   "id": "7374f0fe-98c4-4f1f-9f71-635bbee5f7c5",
   "metadata": {},
   "outputs": [
    {
     "data": {
      "text/plain": [
       "str"
      ]
     },
     "execution_count": 79,
     "metadata": {},
     "output_type": "execute_result"
    }
   ],
   "source": [
    "type(mySecList[2])"
   ]
  },
  {
   "cell_type": "code",
   "execution_count": 80,
   "id": "918f04b6-29cc-48d0-8a0a-9c7ec7c5043b",
   "metadata": {},
   "outputs": [
    {
     "data": {
      "text/plain": [
       "int"
      ]
     },
     "execution_count": 80,
     "metadata": {},
     "output_type": "execute_result"
    }
   ],
   "source": [
    "type(mySecList[1])"
   ]
  },
  {
   "cell_type": "markdown",
   "id": "4fd3ab12-6f28-459c-90d6-25bb8f450828",
   "metadata": {},
   "source": [
    "## Caminhos = Path"
   ]
  },
  {
   "cell_type": "code",
   "execution_count": 81,
   "id": "d5939b9b-3b10-400c-b2e8-bda40e1377c5",
   "metadata": {},
   "outputs": [
    {
     "name": "stdout",
     "output_type": "stream",
     "text": [
      "C:\\Users\\Win10\\Documents\\airpolution\n"
     ]
    }
   ],
   "source": [
    "#Listar o caminho do diretório\n",
    "\n",
    "path = r\"C:\\Users\\Win10\\Documents\\airpolution\"\n",
    "print(path)"
   ]
  },
  {
   "cell_type": "code",
   "execution_count": 82,
   "id": "2aff14df-9184-4337-8e23-8a156f87abea",
   "metadata": {},
   "outputs": [
    {
     "name": "stdout",
     "output_type": "stream",
     "text": [
      "C:/Users/Win10/Documents/airpolution\n"
     ]
    }
   ],
   "source": [
    "path = \"C:/Users/Win10/Documents/airpolution\"\n",
    "print(path)"
   ]
  },
  {
   "cell_type": "code",
   "execution_count": 83,
   "id": "2fe9adbb-64f0-4c48-9a06-54cae4ce52bf",
   "metadata": {},
   "outputs": [
    {
     "data": {
      "text/plain": [
       "['.git', '.gitignore', 'dados', 'figuras', 'README.md', 'scripts']"
      ]
     },
     "execution_count": 83,
     "metadata": {},
     "output_type": "execute_result"
    }
   ],
   "source": [
    "import os \n",
    "# Listar arquivos na pasta\n",
    "os.listdir(path)"
   ]
  },
  {
   "cell_type": "code",
   "execution_count": 84,
   "id": "f184aa49-88a9-4df3-ade1-cdb6af86069e",
   "metadata": {},
   "outputs": [
    {
     "data": {
      "text/plain": [
       "'figuras'"
      ]
     },
     "execution_count": 84,
     "metadata": {},
     "output_type": "execute_result"
    }
   ],
   "source": [
    "# Selecionar primeiro arquivo listado\n",
    "os.listdir(path)[3]"
   ]
  },
  {
   "cell_type": "code",
   "execution_count": 85,
   "id": "5f3ef783-35b5-4d19-bc4e-53ba53188b57",
   "metadata": {},
   "outputs": [
    {
     "data": {
      "text/plain": [
       "'C:/Users/Win10/Documents/airpolution/.git'"
      ]
     },
     "execution_count": 85,
     "metadata": {},
     "output_type": "execute_result"
    }
   ],
   "source": [
    "# Concatenando caminhos\n",
    "path+\"/\"+os.listdir(path)[0]"
   ]
  },
  {
   "cell_type": "code",
   "execution_count": 86,
   "id": "575c0787-9182-41cd-bb0f-d3e0d4071a15",
   "metadata": {},
   "outputs": [
    {
     "data": {
      "text/plain": [
       "['COMMIT_EDITMSG',\n",
       " 'config',\n",
       " 'description',\n",
       " 'FETCH_HEAD',\n",
       " 'HEAD',\n",
       " 'hooks',\n",
       " 'index',\n",
       " 'info',\n",
       " 'logs',\n",
       " 'objects',\n",
       " 'ORIG_HEAD',\n",
       " 'packed-refs',\n",
       " 'refs']"
      ]
     },
     "execution_count": 86,
     "metadata": {},
     "output_type": "execute_result"
    }
   ],
   "source": [
    "# Listando caminho concatenado\n",
    "os.listdir(path+\"/\"+os.listdir(path)[0])"
   ]
  },
  {
   "cell_type": "code",
   "execution_count": 87,
   "id": "20f5d5dd-b3e9-4fc4-8dd0-2616f144d602",
   "metadata": {},
   "outputs": [
    {
     "data": {
      "text/plain": [
       "'C:\\\\Users\\\\Win10\\\\Documents'"
      ]
     },
     "execution_count": 87,
     "metadata": {},
     "output_type": "execute_result"
    }
   ],
   "source": [
    "# Diretório que estou trababalhando\n",
    "os.getcwd()"
   ]
  },
  {
   "cell_type": "code",
   "execution_count": 88,
   "id": "7a679a83-2144-4896-b3d4-3af6bb24546d",
   "metadata": {},
   "outputs": [],
   "source": [
    "# Mudo de diretório para o caminho \n",
    "os.chdir('C:\\\\Users\\\\Win10\\\\Documents\\\\')"
   ]
  },
  {
   "cell_type": "code",
   "execution_count": 89,
   "id": "ed134fcb-1249-4d46-b1c9-0137fedd49ea",
   "metadata": {},
   "outputs": [
    {
     "data": {
      "text/plain": [
       "'C:\\\\Users\\\\Win10\\\\Documents'"
      ]
     },
     "execution_count": 89,
     "metadata": {},
     "output_type": "execute_result"
    }
   ],
   "source": [
    "os.getcwd()"
   ]
  },
  {
   "cell_type": "code",
   "execution_count": 90,
   "id": "8d564dfc-5e1e-408e-b8c7-63a395f4a58b",
   "metadata": {},
   "outputs": [
    {
     "name": "stdout",
     "output_type": "stream",
     "text": [
      "diretório já existe\n"
     ]
    }
   ],
   "source": [
    "# Criando diretório\n",
    "new_path = os.getcwd()+'/test'\n",
    "\n",
    "if os.path.isdir(new_path):\n",
    "    print('diretório já existe')\n",
    "else:\n",
    "    print('Criando diretório '+new_path)\n",
    "    os.mkdir(new_path)"
   ]
  },
  {
   "cell_type": "code",
   "execution_count": 91,
   "id": "651635d9-b18a-486e-ad8c-28dab5def468",
   "metadata": {},
   "outputs": [
    {
     "name": "stdout",
     "output_type": "stream",
     "text": [
      "diretório já existe\n"
     ]
    }
   ],
   "source": [
    "# Criando diretório\n",
    "new_path = os.getcwd()+'/test2'\n",
    "\n",
    "if os.path.isdir(new_path):\n",
    "    print('diretório já existe')\n",
    "    # Criando um arquivo de texto\n",
    "    with open(new_path+\"/copy.txt\", \"w\") as file:\n",
    "        file.write(\"Your text goes here\")\n",
    "else:\n",
    "    print('Criando diretório '+new_path)\n",
    "    os.mkdir(new_path)\n",
    "    with open(new_path+\"/copy.txt\", \"w\") as file:\n",
    "        file.write(\"Your text goes here\")"
   ]
  },
  {
   "cell_type": "markdown",
   "id": "fbe3ed30-9d71-4a3b-b5b2-73630d67537f",
   "metadata": {},
   "source": [
    "## Numpy arrays e Pandas DataFrames"
   ]
  },
  {
   "cell_type": "code",
   "execution_count": 92,
   "id": "bb36795e-b8ef-4f50-95d8-8dbc666d2cb0",
   "metadata": {},
   "outputs": [
    {
     "data": {
      "text/plain": [
       "numpy.ndarray"
      ]
     },
     "execution_count": 92,
     "metadata": {},
     "output_type": "execute_result"
    }
   ],
   "source": [
    "import numpy as np\n",
    "# Criando uma variável numpy\n",
    "n = np.array(0)\n",
    "type(n)"
   ]
  },
  {
   "cell_type": "code",
   "execution_count": 93,
   "id": "0e490d3f-f324-4535-a3e4-ea4d594a8ad1",
   "metadata": {},
   "outputs": [
    {
     "name": "stdout",
     "output_type": "stream",
     "text": [
      "[ 5 10 15 20 25 30]\n"
     ]
    }
   ],
   "source": [
    "# Criando uma variável numpy a partir de uma lista\n",
    "myThirdList=[5,10,15,20,25,30]\n",
    "n = np.array(myThirdList)\n",
    "print(n)"
   ]
  },
  {
   "cell_type": "code",
   "execution_count": 94,
   "id": "885d24ff-a0b9-4290-8943-b3ae79bb5130",
   "metadata": {},
   "outputs": [
    {
     "name": "stdout",
     "output_type": "stream",
     "text": [
      "[[0.74182605 0.70192188 0.30637789 0.69573401 0.34542035]\n",
      " [0.14116558 0.16956543 0.96053541 0.06030158 0.72380381]\n",
      " [0.70716337 0.86588831 0.18489593 0.87789655 0.85879005]\n",
      " [0.72916421 0.59802408 0.45554291 0.94989464 0.20378426]\n",
      " [0.51827826 0.879893   0.92209149 0.56988466 0.57138201]]\n",
      "(5, 5)\n"
     ]
    }
   ],
   "source": [
    "# Criando uma matriz de 10x10 de números aleatórios entre 0 e 1\n",
    "n = np.random.rand(5,5)\n",
    "print(n)\n",
    "# Dimensões da matrix\n",
    "print(n.shape)"
   ]
  },
  {
   "cell_type": "code",
   "execution_count": 95,
   "id": "5196319a-0509-4194-89bf-2ca5a6581be6",
   "metadata": {},
   "outputs": [
    {
     "data": {
      "text/plain": [
       "array([0.72916421, 0.59802408, 0.45554291, 0.94989464, 0.20378426])"
      ]
     },
     "execution_count": 95,
     "metadata": {},
     "output_type": "execute_result"
    }
   ],
   "source": [
    "# Acessando valores da matriz\n",
    "n[3,:]"
   ]
  },
  {
   "cell_type": "code",
   "execution_count": 96,
   "id": "660e29d7-9ee5-4c07-af2d-ec83ec1b162f",
   "metadata": {},
   "outputs": [
    {
     "data": {
      "text/plain": [
       "array([0.69573401, 0.06030158, 0.87789655, 0.94989464, 0.56988466])"
      ]
     },
     "execution_count": 96,
     "metadata": {},
     "output_type": "execute_result"
    }
   ],
   "source": [
    "n[:,3]"
   ]
  },
  {
   "cell_type": "code",
   "execution_count": 97,
   "id": "e0fd162b-80d5-4214-ba2d-03c433813ea8",
   "metadata": {},
   "outputs": [
    {
     "data": {
      "text/plain": [
       "array([[0.69573401],\n",
       "       [0.06030158],\n",
       "       [0.87789655],\n",
       "       [0.94989464],\n",
       "       [0.56988466]])"
      ]
     },
     "execution_count": 97,
     "metadata": {},
     "output_type": "execute_result"
    }
   ],
   "source": [
    "n[:,3:4]"
   ]
  },
  {
   "cell_type": "code",
   "execution_count": 98,
   "id": "04878d58-515f-412f-bf68-3c9596a19c7f",
   "metadata": {},
   "outputs": [
    {
     "data": {
      "text/plain": [
       "array([0.69573401])"
      ]
     },
     "execution_count": 98,
     "metadata": {},
     "output_type": "execute_result"
    }
   ],
   "source": [
    "n[0,3:4]"
   ]
  },
  {
   "cell_type": "code",
   "execution_count": 99,
   "id": "9d56e2ea-4388-485a-af10-09d88d5dc469",
   "metadata": {},
   "outputs": [
    {
     "data": {
      "text/plain": [
       "0.7019218791495095"
      ]
     },
     "execution_count": 99,
     "metadata": {},
     "output_type": "execute_result"
    }
   ],
   "source": [
    "n[0,-4]"
   ]
  },
  {
   "cell_type": "code",
   "execution_count": 100,
   "id": "0a78cd74-1b8d-4018-8801-903e8a24c7d9",
   "metadata": {},
   "outputs": [
    {
     "data": {
      "text/plain": [
       "array([0.69573401])"
      ]
     },
     "execution_count": 100,
     "metadata": {},
     "output_type": "execute_result"
    }
   ],
   "source": [
    "n[0,3:-1]"
   ]
  },
  {
   "cell_type": "code",
   "execution_count": 101,
   "id": "47915318-f88c-45ae-91b7-cfb358b340d1",
   "metadata": {},
   "outputs": [
    {
     "data": {
      "text/plain": [
       "array([0.30637789, 0.69573401, 0.34542035])"
      ]
     },
     "execution_count": 101,
     "metadata": {},
     "output_type": "execute_result"
    }
   ],
   "source": [
    "n[0,2:]"
   ]
  },
  {
   "cell_type": "code",
   "execution_count": 102,
   "id": "ba9e4c35-c73d-4080-9ea9-fa363e3a7863",
   "metadata": {},
   "outputs": [
    {
     "name": "stdout",
     "output_type": "stream",
     "text": [
      "[[ 2.0039446   1.94865193  1.11964908  1.93979724  1.23959191]\n",
      " [ 0.34476334  0.52806869  2.26232066 -0.50581196  1.97935019]\n",
      " [ 1.95609153  2.15858574  0.61462291  2.17235858  2.1503543 ]\n",
      " [ 1.98672878  1.78846083  1.51631974  2.25118089  0.7118917 ]\n",
      " [ 1.6453421   2.17463012  2.22147427  1.7402638   1.74288781]]\n"
     ]
    }
   ],
   "source": [
    "#resultado da matriz de log10\n",
    "an = np.log(n*10)\n",
    "print(an)"
   ]
  },
  {
   "cell_type": "code",
   "execution_count": null,
   "id": "634e299a-f83e-4caa-8407-befe6f0722f4",
   "metadata": {},
   "outputs": [],
   "source": []
  }
 ],
 "metadata": {
  "kernelspec": {
   "display_name": "Python 3 (ipykernel)",
   "language": "python",
   "name": "python3"
  },
  "language_info": {
   "codemirror_mode": {
    "name": "ipython",
    "version": 3
   },
   "file_extension": ".py",
   "mimetype": "text/x-python",
   "name": "python",
   "nbconvert_exporter": "python",
   "pygments_lexer": "ipython3",
   "version": "3.12.0"
  }
 },
 "nbformat": 4,
 "nbformat_minor": 5
}
