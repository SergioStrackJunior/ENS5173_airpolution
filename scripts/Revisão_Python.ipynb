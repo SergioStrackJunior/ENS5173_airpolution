{
 "cells": [
  {
   "cell_type": "markdown",
   "metadata": {},
   "source": [
    "# Revisão \n",
    "\n",
    "Códigos gerais"
   ]
  },
  {
   "cell_type": "code",
   "execution_count": 7,
   "metadata": {},
   "outputs": [
    {
     "name": "stdout",
     "output_type": "stream",
     "text": [
      "Junior é gente fina\n"
     ]
    }
   ],
   "source": [
    "# Tipos de variáveis - string\n",
    "a = 'Junior '\n",
    "b = a + 'é gente fina'\n",
    "print(b)"
   ]
  },
  {
   "cell_type": "code",
   "execution_count": 8,
   "metadata": {},
   "outputs": [
    {
     "name": "stdout",
     "output_type": "stream",
     "text": [
      "11\n",
      "<class 'int'>\n"
     ]
    }
   ],
   "source": [
    "# Tipos de variáveis - inteira\n",
    "\n",
    "c = 1\n",
    "d = c +10\n",
    "print(d)\n",
    "print(type(d))"
   ]
  },
  {
   "cell_type": "code",
   "execution_count": 9,
   "metadata": {},
   "outputs": [
    {
     "name": "stdout",
     "output_type": "stream",
     "text": [
      "valor de g = 21.0 e o valor de h = 110.25\n",
      "<class 'float'>\n",
      "Valor de f = 10 do tipo = <class 'int'>\n",
      "Valor de f = 10.0 do tipo = <class 'float'>\n"
     ]
    }
   ],
   "source": [
    "# Tipos de variáveis - float\n",
    "\n",
    "f = 10.5\n",
    "g = f*2\n",
    "h = f**2\n",
    "print('valor de g = '+str(g) + ' e o valor de h = '+ str(h))\n",
    "print(type(h))\n",
    "f = int(f)\n",
    "print('Valor de f = '+str(f)+ ' do tipo = ' + str(type(f)))\n",
    "f = float(f)\n",
    "print('Valor de f = '+str(f)+ ' do tipo = ' + str(type(f)))"
   ]
  },
  {
   "cell_type": "code",
   "execution_count": 10,
   "metadata": {},
   "outputs": [
    {
     "name": "stdout",
     "output_type": "stream",
     "text": [
      "['Guilherme', 'Flavia', 'Lucas']\n",
      "[5.5, 8.0, 9.5]\n",
      "<class 'list'>\n"
     ]
    }
   ],
   "source": [
    "#Exemplo dicionário\n",
    "\n",
    "dicionario = {\n",
    "    'alunos':['Guilherme', 'Flavia', 'Lucas'],\n",
    "    'notas':[5.5, 8.0, 9.5]\n",
    "}\n",
    "\n",
    "print(dicionario['alunos'])\n",
    "print(dicionario['notas'])\n",
    "print(type(dicionario['notas']))"
   ]
  },
  {
   "cell_type": "code",
   "execution_count": 11,
   "metadata": {},
   "outputs": [
    {
     "name": "stdout",
     "output_type": "stream",
     "text": [
      "0 Guilherme nota = 5.5\n",
      "1 Flavia nota = 8.0\n",
      "2 Lucas nota = 9.5\n",
      " \n",
      "0 Guilherme nota = 5.5\n",
      "1 Flavia nota = 8.0\n",
      "2 Lucas nota = 9.5\n"
     ]
    }
   ],
   "source": [
    "# Treinando loop\n",
    "for ii,aluno in enumerate(dicionario['alunos']):\n",
    "    print(str(ii) + ' '+ aluno + ' nota = ' + str(dicionario['notas'][ii])) \n",
    "print(' ')\n",
    "for ii in range(0,len(dicionario['alunos'])):\n",
    "    print(str(ii) + ' '+ str(dicionario['alunos'][ii]) + ' nota = ' + str(dicionario['notas'][ii])) "
   ]
  },
  {
   "cell_type": "code",
   "execution_count": 12,
   "metadata": {},
   "outputs": [
    {
     "name": "stdout",
     "output_type": "stream",
     "text": [
      "0 Guilherme nota = 10.0\n",
      "1 Flavia nota = 8.0\n",
      "2 Lucas nota = 9.5\n",
      " \n",
      "0 Guilherme nota = 5.5\n",
      "1 Flavia nota = 8.0\n",
      "2 Lucas nota = 10.0\n"
     ]
    }
   ],
   "source": [
    "# Treinando loop com condição\n",
    "for ii,aluno in enumerate(dicionario['alunos']):\n",
    "    if aluno=='Guilherme':\n",
    "        print(str(ii) + ' '+ aluno + ' nota = 10.0') \n",
    "    else:\n",
    "        print(str(ii) + ' '+ aluno + ' nota = ' + str(dicionario['notas'][ii])) \n",
    "\n",
    "print(' ')\n",
    "\n",
    "for ii,aluno in enumerate(dicionario['alunos']):\n",
    "    if ii==2:\n",
    "        print(str(ii) + ' '+ aluno + ' nota = 10.0') \n",
    "    else:\n",
    "        print(str(ii) + ' '+ aluno + ' nota = ' + str(dicionario['notas'][ii])) "
   ]
  },
  {
   "cell_type": "code",
   "execution_count": 13,
   "metadata": {},
   "outputs": [
    {
     "name": "stdout",
     "output_type": "stream",
     "text": [
      "False\n",
      "True\n",
      "False\n",
      "True\n",
      "True\n",
      "True\n",
      "False\n",
      "<class 'bool'>\n"
     ]
    }
   ],
   "source": [
    "# Operações lógicas\n",
    "a = 1\n",
    "b = 3\n",
    "c = 1\n",
    "print(a==b) # Igual a - operação lógica\n",
    "print(a==c)\n",
    "print(a>b) # maior que \n",
    "print(a<b) # menor que \n",
    "print(a>=c) # maior igual que \n",
    "print(a!=b) # diferente de\n",
    "print(a!=c) # diferente de\n",
    "\n",
    "opTF = a!=c\n",
    "print(type(opTF))\n",
    "\n",
    "opT = True\n",
    "opF = False"
   ]
  },
  {
   "cell_type": "code",
   "execution_count": 14,
   "metadata": {},
   "outputs": [
    {
     "name": "stdout",
     "output_type": "stream",
     "text": [
      "0 Guilherme nota = 9.5\n",
      "1 Flavia nota = 6\n",
      "2 Lucas nota = 6\n"
     ]
    }
   ],
   "source": [
    "dicionario = {\n",
    "    'alunos':['Guilherme', 'Flavia', 'Lucas'],\n",
    "    'notas':[9.5, 6, 6]\n",
    "}\n",
    "\n",
    "# Treinando loop com condição\n",
    "for ii,aluno in enumerate(dicionario['alunos']):\n",
    "    if (aluno=='Guilherme') and (dicionario['notas'][ii]<=9):\n",
    "        print(str(ii) + ' '+ aluno + ' nota = 10.0') \n",
    "    else:\n",
    "        print(str(ii) + ' '+ aluno + ' nota = ' + str(dicionario['notas'][ii])) "
   ]
  },
  {
   "cell_type": "code",
   "execution_count": 15,
   "metadata": {},
   "outputs": [
    {
     "name": "stdout",
     "output_type": "stream",
     "text": [
      "['Guilherme' 'Flavia' 'Lucas']\n",
      "<class 'numpy.ndarray'>\n",
      "\n",
      "[False False  True]\n",
      "(array([2], dtype=int64),)\n",
      "\n"
     ]
    },
    {
     "name": "stderr",
     "output_type": "stream",
     "text": [
      "C:\\Users\\Win10\\AppData\\Local\\Temp\\ipykernel_15932\\3449895344.py:15: DeprecationWarning: Conversion of an array with ndim > 0 to a scalar is deprecated, and will error in future. Ensure you extract a single element from your array before performing this operation. (Deprecated NumPy 1.25.)\n",
      "  dicionario['notas'][int(np.where(mat2)[0])] = 9.5\n"
     ]
    }
   ],
   "source": [
    "# Treinando numpy\n",
    "import numpy as np\n",
    "# Convertendo para numpy\n",
    "mat = np.array(dicionario['alunos'])\n",
    "print(mat)\n",
    "print(type(mat))\n",
    "\n",
    "print('')\n",
    "mat2 = np.array(mat=='Lucas')\n",
    "print(mat2)\n",
    "# Local da matriz com valor verdadeiro\n",
    "print(np.where(mat2))\n",
    "\n",
    "print('')\n",
    "dicionario['notas'][int(np.where(mat2)[0])] = 9.5"
   ]
  },
  {
   "cell_type": "code",
   "execution_count": 16,
   "metadata": {},
   "outputs": [
    {
     "name": "stdout",
     "output_type": "stream",
     "text": [
      "[0.73141326 0.53568363 0.20874412 0.19983303 0.26667633 0.57856373\n",
      " 0.74143155 0.42108275 0.47210308 0.49806711 0.47507184 0.24573199\n",
      " 0.82449571 0.48841155 0.50795773 0.11310435 0.81454649 0.48238641\n",
      " 0.92619231 0.47578878 0.13727019 0.3844616  0.64631723 0.64669337\n",
      " 0.5687611  0.63376962 0.74958497 0.584599   0.45719029 0.66836915\n",
      " 0.43671859 0.52136213 0.96789042 0.88109944 0.61010643 0.88104573\n",
      " 0.69288831 0.38436385 0.89119389 0.67820511 0.17870332 0.05099501\n",
      " 0.09044118 0.01994417 0.06593523 0.13800886 0.03464372 0.45133912\n",
      " 0.1888788  0.35253886 0.35338228 0.60372544 0.91952619 0.50439901\n",
      " 0.82987339 0.31614031 0.43378259 0.5457438  0.19516706 0.16400411\n",
      " 0.41707096 0.80235786 0.97963439 0.17569062 0.86131321 0.21242492\n",
      " 0.64937723 0.76265588 0.67289894 0.41442389 0.04525021 0.93866812\n",
      " 0.74705305 0.75588127 0.9589034  0.82363168 0.00412023 0.60370593\n",
      " 0.38971918 0.96565272 0.84185853 0.16831371 0.15502408 0.28855946\n",
      " 0.53701746 0.0914365  0.9857375  0.12280163 0.41600082 0.94594799\n",
      " 0.88108496 0.02284163 0.93828893 0.00230678 0.86207837 0.00673996\n",
      " 0.62893751 0.21576034 0.02957766 0.1460998 ]\n",
      "[0.6679221  0.51042902 0.20723145 0.19850569 0.26352671 0.54682198\n",
      " 0.67534437 0.40874886 0.45476033 0.47772837 0.45740234 0.24326639\n",
      " 0.7342055  0.46922375 0.48639385 0.11286335 0.72741447 0.46389459\n",
      " 0.79933777 0.45803976 0.13683949 0.37506009 0.60225051 0.60255075\n",
      " 0.5385886  0.59218652 0.68133503 0.55186502 0.44142871 0.61970687\n",
      " 0.42296831 0.49806176 0.82369133 0.77143892 0.57295469 0.77140474\n",
      " 0.63876212 0.37496947 0.77782264 0.62739636 0.1777537  0.05097291\n",
      " 0.09031793 0.01994285 0.06588747 0.13757118 0.03463679 0.43617095\n",
      " 0.18775775 0.34528163 0.34607307 0.56771329 0.79531449 0.48328138\n",
      " 0.73784592 0.31090047 0.42030606 0.51905399 0.19393042 0.16326989\n",
      " 0.40508424 0.71899684 0.83029366 0.17478817 0.7586987  0.21083094\n",
      " 0.60469051 0.69084409 0.62325562 0.40266265 0.04523477 0.80677186\n",
      " 0.67947955 0.68593021 0.81856215 0.73361861 0.00412022 0.56769723\n",
      " 0.37992866 0.82242041 0.74588233 0.16752013 0.15440389 0.28457154\n",
      " 0.51157555 0.09130915 0.8336796  0.12249321 0.4041056  0.81105185\n",
      " 0.77142971 0.02283965 0.80654775 0.00230678 0.75919693 0.00673991\n",
      " 0.5882859  0.2140902  0.02957335 0.1455806 ]\n"
     ]
    }
   ],
   "source": [
    "# Matriz numpy\n",
    "\n",
    "vec = np.random.rand(100)\n",
    "print(vec)\n",
    "vec2 = np.sin(vec)\n",
    "print(vec2)"
   ]
  },
  {
   "cell_type": "code",
   "execution_count": 17,
   "metadata": {},
   "outputs": [
    {
     "name": "stdout",
     "output_type": "stream",
     "text": [
      "(100,)\n",
      "2024-01-01 00:00:00\n",
      "2024-01-02 00:00:00\n",
      "2024-01-03 00:00:00\n",
      "2024-01-04 00:00:00\n",
      "2024-01-05 00:00:00\n",
      "2024-01-06 00:00:00\n",
      "2024-01-07 00:00:00\n",
      "2024-01-08 00:00:00\n",
      "2024-01-09 00:00:00\n",
      "2024-01-10 00:00:00\n",
      "2024-01-11 00:00:00\n",
      "2024-01-12 00:00:00\n",
      "2024-01-13 00:00:00\n",
      "2024-01-14 00:00:00\n",
      "2024-01-15 00:00:00\n",
      "2024-01-16 00:00:00\n",
      "2024-01-17 00:00:00\n",
      "2024-01-18 00:00:00\n",
      "2024-01-19 00:00:00\n",
      "2024-01-20 00:00:00\n",
      "2024-01-21 00:00:00\n",
      "2024-01-22 00:00:00\n",
      "2024-01-23 00:00:00\n",
      "2024-01-24 00:00:00\n",
      "2024-01-25 00:00:00\n",
      "2024-01-26 00:00:00\n",
      "2024-01-27 00:00:00\n",
      "2024-01-28 00:00:00\n",
      "2024-01-29 00:00:00\n",
      "2024-01-30 00:00:00\n",
      "2024-01-31 00:00:00\n",
      "2024-02-01 00:00:00\n",
      "2024-02-02 00:00:00\n",
      "2024-02-03 00:00:00\n",
      "2024-02-04 00:00:00\n",
      "2024-02-05 00:00:00\n",
      "2024-02-06 00:00:00\n",
      "2024-02-07 00:00:00\n",
      "2024-02-08 00:00:00\n",
      "2024-02-09 00:00:00\n",
      "2024-02-10 00:00:00\n",
      "2024-02-11 00:00:00\n",
      "2024-02-12 00:00:00\n",
      "2024-02-13 00:00:00\n",
      "2024-02-14 00:00:00\n",
      "2024-02-15 00:00:00\n",
      "2024-02-16 00:00:00\n",
      "2024-02-17 00:00:00\n",
      "2024-02-18 00:00:00\n",
      "2024-02-19 00:00:00\n",
      "2024-02-20 00:00:00\n",
      "2024-02-21 00:00:00\n",
      "2024-02-22 00:00:00\n",
      "2024-02-23 00:00:00\n",
      "2024-02-24 00:00:00\n",
      "2024-02-25 00:00:00\n",
      "2024-02-26 00:00:00\n",
      "2024-02-27 00:00:00\n",
      "2024-02-28 00:00:00\n",
      "2024-02-29 00:00:00\n",
      "2024-03-01 00:00:00\n",
      "2024-03-02 00:00:00\n",
      "2024-03-03 00:00:00\n",
      "2024-03-04 00:00:00\n",
      "2024-03-05 00:00:00\n",
      "2024-03-06 00:00:00\n",
      "2024-03-07 00:00:00\n",
      "2024-03-08 00:00:00\n",
      "2024-03-09 00:00:00\n",
      "2024-03-10 00:00:00\n",
      "2024-03-11 00:00:00\n",
      "2024-03-12 00:00:00\n",
      "2024-03-13 00:00:00\n",
      "2024-03-14 00:00:00\n",
      "2024-03-15 00:00:00\n",
      "2024-03-16 00:00:00\n",
      "2024-03-17 00:00:00\n",
      "2024-03-18 00:00:00\n",
      "2024-03-19 00:00:00\n",
      "2024-03-20 00:00:00\n",
      "2024-03-21 00:00:00\n",
      "2024-03-22 00:00:00\n",
      "2024-03-23 00:00:00\n",
      "2024-03-24 00:00:00\n",
      "2024-03-25 00:00:00\n",
      "2024-03-26 00:00:00\n",
      "2024-03-27 00:00:00\n",
      "2024-03-28 00:00:00\n",
      "2024-03-29 00:00:00\n",
      "2024-03-30 00:00:00\n",
      "2024-03-31 00:00:00\n",
      "2024-04-01 00:00:00\n",
      "2024-04-02 00:00:00\n",
      "2024-04-03 00:00:00\n",
      "2024-04-04 00:00:00\n",
      "2024-04-05 00:00:00\n",
      "2024-04-06 00:00:00\n",
      "2024-04-07 00:00:00\n",
      "2024-04-08 00:00:00\n",
      "2024-04-09 00:00:00\n"
     ]
    }
   ],
   "source": [
    "# Datetime \n",
    "\n",
    "from datetime import datetime, timedelta\n",
    "\n",
    "# Data inicial\n",
    "start_date = datetime(2024, 1, 1)  # ano, mês, dia\n",
    "\n",
    "# Lista para armazenar as datas\n",
    "date_vector = []\n",
    "\n",
    "# Gerar datas para uma semana\n",
    "print(vec.shape)\n",
    "for i in range(0,vec.shape[0]):\n",
    "    date_vector.append(start_date + timedelta(days=i))\n",
    "\n",
    "# Exibir as datas\n",
    "for date in date_vector:\n",
    "    print(date)"
   ]
  },
  {
   "cell_type": "code",
   "execution_count": 21,
   "metadata": {},
   "outputs": [
    {
     "name": "stdout",
     "output_type": "stream",
     "text": [
      "        datas       vec      vec2\n",
      "0  2024-01-01  0.731413  0.667922\n",
      "1  2024-01-02  0.535684  0.510429\n",
      "2  2024-01-03  0.208744  0.207231\n",
      "3  2024-01-04  0.199833  0.198506\n",
      "4  2024-01-05  0.266676  0.263527\n",
      "..        ...       ...       ...\n",
      "95 2024-04-05  0.006740  0.006740\n",
      "96 2024-04-06  0.628938  0.588286\n",
      "97 2024-04-07  0.215760  0.214090\n",
      "98 2024-04-08  0.029578  0.029573\n",
      "99 2024-04-09  0.146100  0.145581\n",
      "\n",
      "[100 rows x 3 columns]\n"
     ]
    }
   ],
   "source": [
    "# Criando dataframe e salvando\n",
    "import pandas as pd\n",
    "\n",
    "df = pd.DataFrame()\n",
    "df['datas'] = date_vector\n",
    "df['vec'] = vec\n",
    "df['vec2'] = vec2\n",
    "print(df)\n",
    "\n",
    "import os\n",
    "\n",
    "pasta = r\"I:\\airpolution\\tabelas\"\n",
    "\n",
    "# Create directory if it doesn't exist\n",
    "os.makedirs(pasta, exist_ok=True)\n",
    "df.to_csv(pasta + '/planilha.csv')"
   ]
  }
 ],
 "metadata": {
  "kernelspec": {
   "display_name": "Python 3",
   "language": "python",
   "name": "python3"
  },
  "language_info": {
   "codemirror_mode": {
    "name": "ipython",
    "version": 3
   },
   "file_extension": ".py",
   "mimetype": "text/x-python",
   "name": "python",
   "nbconvert_exporter": "python",
   "pygments_lexer": "ipython3",
   "version": "3.12.0"
  }
 },
 "nbformat": 4,
 "nbformat_minor": 2
}
