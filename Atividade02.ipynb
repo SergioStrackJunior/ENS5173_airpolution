{
 "cells": [
  {
   "cell_type": "markdown",
   "metadata": {},
   "source": [
    "Caracterização meteorológica da área de estudo\n",
    "Autor: Sérgio Strack\n",
    "\n",
    "Nesta atividade caracterizaremos a meteorologia da área de estudo. Avaliaremos os seguintes pontos:\n",
    "\n",
    "Meteorologia de superfície\n",
    "Meteorologia upperair ou sondagem/perfil da atmosfera\n",
    "Superfície - Albedo, razão de Bowen e Rugosidade\n",
    "Meteorologia de superfície\n",
    "Analisaremos os dados de metar (estação meteorológica em aeroportos). Os dados serão coletados na plataforma https://hoinaski.prof.ufsc.br/BRAIN/getMETAR .\n",
    "Faça seu login e colete o dado para o período de 01/01/2023 a 01/01/2024.\n",
    "Os dados estarão na pasta de inputs/meteoSuperficie com a nomenclatura metar.csv"
   ]
  },
  {
   "cell_type": "code",
   "execution_count": 1,
   "metadata": {},
   "outputs": [
    {
     "name": "stdout",
     "output_type": "stream",
     "text": [
      "i:\\airpolution\n",
      "i:\\airpolution\\inputs\\metar\n"
     ]
    },
    {
     "ename": "FileNotFoundError",
     "evalue": "[WinError 3] O sistema não pode encontrar o caminho especificado: 'i:\\\\airpolution\\\\inputs\\\\metar'",
     "output_type": "error",
     "traceback": [
      "\u001b[1;31m---------------------------------------------------------------------------\u001b[0m",
      "\u001b[1;31mFileNotFoundError\u001b[0m                         Traceback (most recent call last)",
      "Cell \u001b[1;32mIn[1], line 13\u001b[0m\n\u001b[0;32m     10\u001b[0m \u001b[38;5;28mprint\u001b[39m(met)\n\u001b[0;32m     12\u001b[0m \u001b[38;5;66;03m# Listando os arquivos dentro do diretório\u001b[39;00m\n\u001b[1;32m---> 13\u001b[0m files \u001b[38;5;241m=\u001b[39m \u001b[43mos\u001b[49m\u001b[38;5;241;43m.\u001b[39;49m\u001b[43mlistdir\u001b[49m\u001b[43m(\u001b[49m\u001b[43mmet\u001b[49m\u001b[43m)\u001b[49m\n\u001b[0;32m     14\u001b[0m \u001b[38;5;28mprint\u001b[39m(files)\n",
      "\u001b[1;31mFileNotFoundError\u001b[0m: [WinError 3] O sistema não pode encontrar o caminho especificado: 'i:\\\\airpolution\\\\inputs\\\\metar'"
     ]
    }
   ],
   "source": [
    "# Selecionar arquivo para análise\n",
    "import os\n",
    "\n",
    "# Pegando o caminho do diretório que estou\n",
    "rootPath = os.getcwd()\n",
    "print(rootPath)\n",
    "\n",
    "# Definindo o diretório com os arquivos metar\n",
    "met = rootPath +'\\\\inputs\\\\metar'\n",
    "print(met)\n",
    "\n",
    "# Listando os arquivos dentro do diretório\n",
    "files = os.listdir(met)\n",
    "print(files)"
   ]
  },
  {
   "cell_type": "code",
   "execution_count": null,
   "metadata": {},
   "outputs": [],
   "source": [
    "# Abrindo os arquivos metar\n",
    "import pandas as pd\n",
    "\n",
    "# Abrindo cada arquivo dentro da pasta e acumulando em uma lista chamada de metSuperficie\n",
    "metSuperficie=[]\n",
    "for file in files:\n",
    "    metSuperficie.append(pd.read_csv(metSuperficiePath+'\\\\'+file))\n",
    "\n",
    "# Convertendo metSuperficie para DataFrame\n",
    "metSuperficie = pd.concat(metSuperficie)\n",
    "\n",
    "print(metSuperficie)\n",
    "print(type(metSuperficie))"
   ]
  },
  {
   "cell_type": "code",
   "execution_count": null,
   "metadata": {},
   "outputs": [],
   "source": [
    "# Criar uma coluna com Datetime dos dados\n",
    "\n",
    "# Criar uma coluna de data e hora combinando as colunas separadas\n",
    "metSuperficie['datetime'] = pd.to_datetime(metSuperficie[['year', 'month', 'day', 'hour']])\n",
    "print(metSuperficie['datetime'])\n",
    "\n",
    "# Definido a coluna de datetime como índice da matriz\n",
    "metSuperficie.set_index(metSuperficie['datetime'])"
   ]
  },
  {
   "cell_type": "code",
   "execution_count": null,
   "metadata": {},
   "outputs": [],
   "source": [
    "# Analisando os dados através de figuras\n",
    "import matplotlib.pyplot as plt\n",
    "\n",
    "fig,ax = plt.subplots(4,sharex=True)\n",
    "ax[0].plot(metSuperficie['datetime'],metSuperficie['temp'],color='red')\n",
    "ax[1].plot(metSuperficie['datetime'],metSuperficie['p'],color='orange')\n",
    "ax[2].plot(metSuperficie['datetime'],metSuperficie['relh'])\n",
    "ax[3].plot(metSuperficie['datetime'],metSuperficie['cco'],color='gray')\n",
    "ax[3].tick_params(axis='x', rotation=45)"
   ]
  },
  {
   "cell_type": "code",
   "execution_count": null,
   "metadata": {},
   "outputs": [],
   "source": [
    "# Estatísticas dos dados\n",
    "metSuperficie.set_index('datetime', inplace=True)\n",
    "media_mensal = metSuperficie.resample('M').mean()\n",
    "\n",
    "print(media_mensal)"
   ]
  }
 ],
 "metadata": {
  "kernelspec": {
   "display_name": "Python 3",
   "language": "python",
   "name": "python3"
  },
  "language_info": {
   "codemirror_mode": {
    "name": "ipython",
    "version": 3
   },
   "file_extension": ".py",
   "mimetype": "text/x-python",
   "name": "python",
   "nbconvert_exporter": "python",
   "pygments_lexer": "ipython3",
   "version": "3.12.0"
  }
 },
 "nbformat": 4,
 "nbformat_minor": 2
}
