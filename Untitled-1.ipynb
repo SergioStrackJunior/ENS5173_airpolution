{
 "cells": [
  {
   "cell_type": "code",
   "execution_count": 1,
   "metadata": {},
   "outputs": [
    {
     "name": "stdout",
     "output_type": "stream",
     "text": [
      "i:\\airpolution\\tabelas\\FE\n",
      "chp_2_2.csv\n",
      "  Parametro  Particulas totais em suspensao  Particulas Inalaveis    SO2  NO2  \\\n",
      "0   Ponto 1                           36.32                 20.89  26.97  NaN   \n",
      "1   Ponto 2                           49.87                 32.97  41.28  NaN   \n",
      "\n",
      "   CO  \n",
      "0 NaN  \n",
      "1 NaN  \n"
     ]
    }
   ],
   "source": [
    "# Utilizando Pandas para abrir a planilha\n",
    "import pandas as pd\n",
    "import os\n",
    "\n",
    "# Coletando o caminho da pasta que estou\n",
    "cwd = os.getcwd()\n",
    "\n",
    "# Pasta dos fatores de emissão\n",
    "path = cwd+'\\\\tabelas\\\\FE'\n",
    "print(path)\n",
    "\n",
    "# Indicando nome do arquivo\n",
    "chapterNumer = 2\n",
    "subChapter = 2\n",
    "file = 'chp_'+str(chapterNumer)+'_'+str(subChapter)+'.csv'\n",
    "print(file)\n",
    "\n",
    "# Abrindo arquivo utilizando o Pandas\n",
    "fe = pd.read_csv(path + '\\\\'+file)\n",
    "print(fe)"
   ]
  },
  {
   "cell_type": "code",
   "execution_count": null,
   "metadata": {},
   "outputs": [],
   "source": [
    "# Passo 2: Estimativa de Emissões com Base na Taxa de Atividade\n",
    "def estimar_emissoes(fatores_emissao, taxa_atividade):\n",
    "    \"\"\"\n",
    "    Função para estimar as emissões com base nos fatores de emissão e na taxa de atividade.\n",
    "\n",
    "    Parâmetros:\n",
    "    - fatores_emissao: DataFrame contendo os fatores de emissão.\n",
    "    - taxa_atividade: Valor numérico representando a taxa de atividade do empreendimento.\n",
    "\n",
    "    Retorna:\n",
    "    - Um DataFrame contendo as emissões estimadas para cada processo.\n",
    "    \"\"\"\n",
    "    emissao = fatores_emissao * taxa_atividade\n",
    "    return emissao"
   ]
  }
 ],
 "metadata": {
  "kernelspec": {
   "display_name": "Python 3",
   "language": "python",
   "name": "python3"
  },
  "language_info": {
   "codemirror_mode": {
    "name": "ipython",
    "version": 3
   },
   "file_extension": ".py",
   "mimetype": "text/x-python",
   "name": "python",
   "nbconvert_exporter": "python",
   "pygments_lexer": "ipython3",
   "version": "3.12.0"
  }
 },
 "nbformat": 4,
 "nbformat_minor": 2
}
