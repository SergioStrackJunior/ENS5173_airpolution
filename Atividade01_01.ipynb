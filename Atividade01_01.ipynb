{
 "cells": [
  {
   "cell_type": "markdown",
   "id": "1586e17a-c883-4a28-9245-f05480df013d",
   "metadata": {},
   "source": [
    "# Atividade 01 - Parte 01 - Inventário de emissões utilizando Python\n",
    "\n",
    "Aluno: Sérgio Strack Junior\n"
   ]
  },
  {
   "cell_type": "markdown",
   "id": "29e83e2a-e08f-4b9e-961a-f52fc2ed4a88",
   "metadata": {},
   "source": [
    "## Abrir planilha de fatores de emissões compilada.\n",
    "Utilizei o capítulo 2 da AP42, pois meu empreendimento é uma EMISSÃO DE RESÍDUO. "
   ]
  },
  {
   "cell_type": "code",
   "execution_count": 10,
   "id": "89354a60",
   "metadata": {},
   "outputs": [
    {
     "name": "stdout",
     "output_type": "stream",
     "text": [
      "i:\\airpolution\\tabelas\\FE\n",
      "chp_2_2.csv\n",
      "  SOURCE  CO2  NO2\n",
      "0      A    6    7\n",
      "1      B    4   45\n",
      "2      C    3    3\n",
      "3      D    1    1\n",
      "4      E    3    2\n",
      "5      F    2    0\n"
     ]
    }
   ],
   "source": [
    "# Utilizando Pandas para abrir a planilha\n",
    "import pandas as pd\n",
    "import os\n",
    "\n",
    "# Coletando o caminho da pasta que estou\n",
    "cwd = os.getcwd()\n",
    "\n",
    "# Pasta dos fatores de emissão\n",
    "path = cwd+'\\\\tabelas\\\\FE'\n",
    "print(path)\n",
    "\n",
    "# Indicando nome do arquivo\n",
    "chapterNumer = 2\n",
    "subChapter = 2\n",
    "file = 'chp_'+str(chapterNumer)+'_'+str(subChapter)+'.csv'\n",
    "print(file)\n",
    "\n",
    "# Abrindo arquivo utilizando o Pandas\n",
    "fe = pd.read_csv(path + '\\\\'+file)\n",
    "print(fe)"
   ]
  },
  {
   "cell_type": "code",
   "execution_count": 14,
   "id": "686c7870-7b62-4de8-8f0e-9a599ed891db",
   "metadata": {},
   "outputs": [
    {
     "ename": "KeyError",
     "evalue": "'PM'",
     "output_type": "error",
     "traceback": [
      "\u001b[1;31m---------------------------------------------------------------------------\u001b[0m",
      "\u001b[1;31mKeyError\u001b[0m                                  Traceback (most recent call last)",
      "File \u001b[1;32mc:\\Users\\Win10\\AppData\\Local\\Programs\\Python\\Python312\\Lib\\site-packages\\pandas\\core\\indexes\\base.py:3805\u001b[0m, in \u001b[0;36mIndex.get_loc\u001b[1;34m(self, key)\u001b[0m\n\u001b[0;32m   3804\u001b[0m \u001b[38;5;28;01mtry\u001b[39;00m:\n\u001b[1;32m-> 3805\u001b[0m     \u001b[38;5;28;01mreturn\u001b[39;00m \u001b[38;5;28;43mself\u001b[39;49m\u001b[38;5;241;43m.\u001b[39;49m\u001b[43m_engine\u001b[49m\u001b[38;5;241;43m.\u001b[39;49m\u001b[43mget_loc\u001b[49m\u001b[43m(\u001b[49m\u001b[43mcasted_key\u001b[49m\u001b[43m)\u001b[49m\n\u001b[0;32m   3806\u001b[0m \u001b[38;5;28;01mexcept\u001b[39;00m \u001b[38;5;167;01mKeyError\u001b[39;00m \u001b[38;5;28;01mas\u001b[39;00m err:\n",
      "File \u001b[1;32mindex.pyx:167\u001b[0m, in \u001b[0;36mpandas._libs.index.IndexEngine.get_loc\u001b[1;34m()\u001b[0m\n",
      "File \u001b[1;32mindex.pyx:196\u001b[0m, in \u001b[0;36mpandas._libs.index.IndexEngine.get_loc\u001b[1;34m()\u001b[0m\n",
      "File \u001b[1;32mpandas\\\\_libs\\\\hashtable_class_helper.pxi:7081\u001b[0m, in \u001b[0;36mpandas._libs.hashtable.PyObjectHashTable.get_item\u001b[1;34m()\u001b[0m\n",
      "File \u001b[1;32mpandas\\\\_libs\\\\hashtable_class_helper.pxi:7089\u001b[0m, in \u001b[0;36mpandas._libs.hashtable.PyObjectHashTable.get_item\u001b[1;34m()\u001b[0m\n",
      "\u001b[1;31mKeyError\u001b[0m: 'PM'",
      "\nThe above exception was the direct cause of the following exception:\n",
      "\u001b[1;31mKeyError\u001b[0m                                  Traceback (most recent call last)",
      "Cell \u001b[1;32mIn[14], line 5\u001b[0m\n\u001b[0;32m      2\u001b[0m \u001b[38;5;28;01mimport\u001b[39;00m \u001b[38;5;21;01mmatplotlib\u001b[39;00m\u001b[38;5;21;01m.\u001b[39;00m\u001b[38;5;21;01mpyplot\u001b[39;00m \u001b[38;5;28;01mas\u001b[39;00m \u001b[38;5;21;01mplt\u001b[39;00m\n\u001b[0;32m      4\u001b[0m atv \u001b[38;5;241m=\u001b[39m \u001b[38;5;241m1000\u001b[39m \u001b[38;5;66;03m# Considerando uma taxa de atividade\u001b[39;00m\n\u001b[1;32m----> 5\u001b[0m emis \u001b[38;5;241m=\u001b[39m \u001b[43mfe\u001b[49m\u001b[43m[\u001b[49m\u001b[38;5;124;43m'\u001b[39;49m\u001b[38;5;124;43mPM\u001b[39;49m\u001b[38;5;124;43m'\u001b[39;49m\u001b[43m]\u001b[49m\u001b[38;5;241m*\u001b[39matv\n\u001b[0;32m      7\u001b[0m \u001b[38;5;66;03m#Somando dataframe\u001b[39;00m\n\u001b[0;32m      8\u001b[0m \u001b[38;5;28mprint\u001b[39m(emis\u001b[38;5;241m.\u001b[39msum())\n",
      "File \u001b[1;32mc:\\Users\\Win10\\AppData\\Local\\Programs\\Python\\Python312\\Lib\\site-packages\\pandas\\core\\frame.py:4090\u001b[0m, in \u001b[0;36mDataFrame.__getitem__\u001b[1;34m(self, key)\u001b[0m\n\u001b[0;32m   4088\u001b[0m \u001b[38;5;28;01mif\u001b[39;00m \u001b[38;5;28mself\u001b[39m\u001b[38;5;241m.\u001b[39mcolumns\u001b[38;5;241m.\u001b[39mnlevels \u001b[38;5;241m>\u001b[39m \u001b[38;5;241m1\u001b[39m:\n\u001b[0;32m   4089\u001b[0m     \u001b[38;5;28;01mreturn\u001b[39;00m \u001b[38;5;28mself\u001b[39m\u001b[38;5;241m.\u001b[39m_getitem_multilevel(key)\n\u001b[1;32m-> 4090\u001b[0m indexer \u001b[38;5;241m=\u001b[39m \u001b[38;5;28;43mself\u001b[39;49m\u001b[38;5;241;43m.\u001b[39;49m\u001b[43mcolumns\u001b[49m\u001b[38;5;241;43m.\u001b[39;49m\u001b[43mget_loc\u001b[49m\u001b[43m(\u001b[49m\u001b[43mkey\u001b[49m\u001b[43m)\u001b[49m\n\u001b[0;32m   4091\u001b[0m \u001b[38;5;28;01mif\u001b[39;00m is_integer(indexer):\n\u001b[0;32m   4092\u001b[0m     indexer \u001b[38;5;241m=\u001b[39m [indexer]\n",
      "File \u001b[1;32mc:\\Users\\Win10\\AppData\\Local\\Programs\\Python\\Python312\\Lib\\site-packages\\pandas\\core\\indexes\\base.py:3812\u001b[0m, in \u001b[0;36mIndex.get_loc\u001b[1;34m(self, key)\u001b[0m\n\u001b[0;32m   3807\u001b[0m     \u001b[38;5;28;01mif\u001b[39;00m \u001b[38;5;28misinstance\u001b[39m(casted_key, \u001b[38;5;28mslice\u001b[39m) \u001b[38;5;129;01mor\u001b[39;00m (\n\u001b[0;32m   3808\u001b[0m         \u001b[38;5;28misinstance\u001b[39m(casted_key, abc\u001b[38;5;241m.\u001b[39mIterable)\n\u001b[0;32m   3809\u001b[0m         \u001b[38;5;129;01mand\u001b[39;00m \u001b[38;5;28many\u001b[39m(\u001b[38;5;28misinstance\u001b[39m(x, \u001b[38;5;28mslice\u001b[39m) \u001b[38;5;28;01mfor\u001b[39;00m x \u001b[38;5;129;01min\u001b[39;00m casted_key)\n\u001b[0;32m   3810\u001b[0m     ):\n\u001b[0;32m   3811\u001b[0m         \u001b[38;5;28;01mraise\u001b[39;00m InvalidIndexError(key)\n\u001b[1;32m-> 3812\u001b[0m     \u001b[38;5;28;01mraise\u001b[39;00m \u001b[38;5;167;01mKeyError\u001b[39;00m(key) \u001b[38;5;28;01mfrom\u001b[39;00m \u001b[38;5;21;01merr\u001b[39;00m\n\u001b[0;32m   3813\u001b[0m \u001b[38;5;28;01mexcept\u001b[39;00m \u001b[38;5;167;01mTypeError\u001b[39;00m:\n\u001b[0;32m   3814\u001b[0m     \u001b[38;5;66;03m# If we have a listlike key, _check_indexing_error will raise\u001b[39;00m\n\u001b[0;32m   3815\u001b[0m     \u001b[38;5;66;03m#  InvalidIndexError. Otherwise we fall through and re-raise\u001b[39;00m\n\u001b[0;32m   3816\u001b[0m     \u001b[38;5;66;03m#  the TypeError.\u001b[39;00m\n\u001b[0;32m   3817\u001b[0m     \u001b[38;5;28mself\u001b[39m\u001b[38;5;241m.\u001b[39m_check_indexing_error(key)\n",
      "\u001b[1;31mKeyError\u001b[0m: 'PM'"
     ]
    }
   ],
   "source": [
    "# Plotando os fatores de emissão\n",
    "import matplotlib.pyplot as plt\n",
    "\n",
    "atv = 1000 # Considerando uma taxa de atividade\n",
    "emis = fe['PM']*atv\n",
    "\n",
    "#Somando dataframe\n",
    "print(emis.sum())\n",
    "\n",
    "# Criando a figura com Matplotlib\n",
    "# Subplots com número de linhas igual ao número de poluentes\n",
    "# sharex significa compartilhar o eixo x\n",
    "fig,ax = plt.subplots(len(fe.columns)-1,1,sharex = True,figsize=(9, 15))\n",
    "\n",
    "# Loop para preencher o subplot com os gráficos de barra\n",
    "for ii in range(1,len(fe.columns)):\n",
    "    print(ii)\n",
    "    ax[ii-1].bar(fe['Source'],fe.iloc[:,ii],color = ['#DAF7A6','red','cyan'])\n",
    "    ax[ii-1].set_xlabel('Processo', fontsize=8)\n",
    "    ax[ii-1].set_ylabel(fe.columns[ii]+'\\n(g/kg)', fontsize=8) # Inventei a unidade\n",
    "\n",
    "# Salva a figura na pasta figures - criar a pasta antes!!\n",
    "fig.savefig(cwd+'\\\\imagens\\\\barplot_fatorEmiss.png')"
   ]
  },
  {
   "cell_type": "markdown",
   "id": "74ae228d",
   "metadata": {},
   "source": [
    "Criando taxa de atividade aleatória com sazonalidade\n",
    "Nesta sessão nós criaremos uma taxa de atividade de um empreendimento qualquer que contenha sazonalidade ao longo dos meses do ano. Esta variabilidade também deve conter uma componente aleatória."
   ]
  },
  {
   "cell_type": "code",
   "execution_count": null,
   "id": "69ae5acc-2518-421d-8dd4-37b31c49d993",
   "metadata": {},
   "outputs": [
    {
     "ename": "NameError",
     "evalue": "name 'fe' is not defined",
     "output_type": "error",
     "traceback": [
      "\u001b[1;31m---------------------------------------------------------------------------\u001b[0m",
      "\u001b[1;31mNameError\u001b[0m                                 Traceback (most recent call last)",
      "Cell \u001b[1;32mIn[8], line 5\u001b[0m\n\u001b[0;32m      2\u001b[0m \u001b[38;5;28;01mimport\u001b[39;00m \u001b[38;5;21;01mmatplotlib\u001b[39;00m\u001b[38;5;21;01m.\u001b[39;00m\u001b[38;5;21;01mpyplot\u001b[39;00m \u001b[38;5;28;01mas\u001b[39;00m \u001b[38;5;21;01mplt\u001b[39;00m\n\u001b[0;32m      4\u001b[0m atv \u001b[38;5;241m=\u001b[39m \u001b[38;5;241m1000\u001b[39m \u001b[38;5;66;03m# Considerando uma taxa de atividade\u001b[39;00m\n\u001b[1;32m----> 5\u001b[0m emis \u001b[38;5;241m=\u001b[39m \u001b[43mfe\u001b[49m[\u001b[38;5;124m'\u001b[39m\u001b[38;5;124mPM\u001b[39m\u001b[38;5;124m'\u001b[39m]\u001b[38;5;241m*\u001b[39matv\n\u001b[0;32m      7\u001b[0m fig,ax \u001b[38;5;241m=\u001b[39m plt\u001b[38;5;241m.\u001b[39msubplots()\n\u001b[0;32m      8\u001b[0m emis\u001b[38;5;241m.\u001b[39mplot\u001b[38;5;241m.\u001b[39mbar(ax\u001b[38;5;241m=\u001b[39max,x\u001b[38;5;241m=\u001b[39m\u001b[38;5;124m'\u001b[39m\u001b[38;5;124mSource\u001b[39m\u001b[38;5;124m'\u001b[39m)\n",
      "\u001b[1;31mNameError\u001b[0m: name 'fe' is not defined"
     ]
    }
   ],
   "source": [
    "# Criando vetor de valores aleatórios\n",
    "import numpy as np\n",
    "atvMax = 1000 \n",
    "atvMin = 12\n",
    "n = 1000\n",
    "atv = (atvMax - atvMin)*np.random.rand(n) + atvMin\n",
    "#print(atv)\n",
    "\n",
    "# Criando uma figura com os valores aleatórios\n",
    "fig, ax= plt.subplots()\n",
    "ax.plot(atv)"
   ]
  },
  {
   "cell_type": "code",
   "execution_count": null,
   "id": "59b73e3f-e808-40f6-be8e-2d4373778aee",
   "metadata": {},
   "outputs": [],
   "source": [
    "# Criar um vetor com as datas\n",
    "from datetime import datetime, timedelta\n",
    "\n",
    "# Definindo a data inicial e final\n",
    "data_inicial = datetime(2024, 1, 1)\n",
    "data_final = datetime(2024, 12, 31)\n",
    "\n",
    "# Definindo o passo (intervalo entre as datas)\n",
    "passo = timedelta(days=1)\n",
    "\n",
    "# Criando o vetor de datas\n",
    "vetor_datas = []\n",
    "data_atual = data_inicial\n",
    "while data_atual <= data_final:\n",
    "    vetor_datas.append(data_atual)\n",
    "    data_atual += passo\n",
    "\n",
    "# Exibindo o vetor de datas\n",
    "for data in vetor_datas:\n",
    "    print(data)"
   ]
  },
  {
   "cell_type": "code",
   "execution_count": null,
   "id": "aa7e33db",
   "metadata": {},
   "outputs": [],
   "source": [
    "# Criando vetor de datas\n",
    "import pandas as pd\n",
    "\n",
    "# Criar um intervalo de datas\n",
    "datas = pd.date_range(start='2024-01-01', end='2024-12-31', freq='D')\n",
    "\n",
    "# Criar um DataFrame com as datas\n",
    "df = pd.DataFrame({'Data': datas})\n",
    "\n",
    "# Extrair os meses das datas e adicioná-los como uma nova coluna no DataFrame\n",
    "df['Mes'] = df['Data'].dt.month\n",
    "\n",
    "# Mostrar o DataFrame resultante\n",
    "print(df)"
   ]
  },
  {
   "cell_type": "code",
   "execution_count": null,
   "id": "a7f9ebb1",
   "metadata": {},
   "outputs": [],
   "source": [
    "# Ajustar meus números aleatórios com base no comprimento do vetor de datas\n",
    "\n",
    "# Criando dataframe com datas e valores de atividade aleatória\n",
    "import pandas as pd\n",
    "# Extraindo o número de linhas/número de datas\n",
    "n = df.shape[0]\n",
    "\n",
    "# Criando atividade aleatória\n",
    "atv = (atvMax - atvMin)*np.random.rand(n) + atvMin\n",
    "df['atividade'] = atv\n",
    "#print(atv)\n",
    "print(df)\n",
    "df.to_csv(r\"I:\\airpolution\\tabelas\\ativ.csv\")\n",
    "\n",
    "\n",
    "# Criando uma figura com os valores aleatórios\n",
    "#fig, ax= plt.subplots()\n",
    "#ax.plot(datas, atv)"
   ]
  },
  {
   "cell_type": "code",
   "execution_count": null,
   "id": "5d4c39fc",
   "metadata": {},
   "outputs": [],
   "source": [
    "# Criando componente sazonal\n",
    "\n",
    "sazonalidade = np.cos((2*np.pi)*df['Mes']/12)\n",
    "plt.plot(sazonalidade)\n",
    "df['sazonalidade'] = sazonalidade + 1\n",
    "df.to_csv(r\"I:\\airpolution\\tabelas\\ativ.csv\")"
   ]
  },
  {
   "cell_type": "code",
   "execution_count": null,
   "id": "d07808e3",
   "metadata": {},
   "outputs": [],
   "source": [
    "# Valores aleatórios com sazonalidade\n",
    "\n",
    "df['aleatorioSazonal'] = df['atividade'] * df['sazonalidade'] \n",
    "\n",
    "plt.plot(df['Mes'], df['aleatorioSazonal'])"
   ]
  }
 ],
 "metadata": {
  "kernelspec": {
   "display_name": "Python 3 (ipykernel)",
   "language": "python",
   "name": "python3"
  },
  "language_info": {
   "codemirror_mode": {
    "name": "ipython",
    "version": 3
   },
   "file_extension": ".py",
   "mimetype": "text/x-python",
   "name": "python",
   "nbconvert_exporter": "python",
   "pygments_lexer": "ipython3",
   "version": "3.12.0"
  }
 },
 "nbformat": 4,
 "nbformat_minor": 5
}
